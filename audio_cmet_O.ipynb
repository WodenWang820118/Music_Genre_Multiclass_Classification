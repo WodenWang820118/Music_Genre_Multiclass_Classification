{
 "cells": [
  {
   "cell_type": "code",
   "execution_count": 1,
   "metadata": {},
   "outputs": [
    {
     "name": "stderr",
     "output_type": "stream",
     "text": [
      "COMET WARNING: As you are running in a Jupyter environment, you will need to call `experiment.end()` when finished to ensure all metrics and code are logged before exiting.\n",
      "COMET INFO: Experiment is live on comet.ml https://www.comet.ml/wodenwang820118/music-genre-multiclass-classification/4025d21d069d452a879ec95dacaf1b05\n",
      "\n"
     ]
    }
   ],
   "source": [
    "# import comet_ml at the top of your file\n",
    "from comet_ml import Experiment\n",
    "experiment = Experiment(\n",
    "            project_name=\"music-genre-multiclass-classification\",\n",
    "            workspace=\"wodenwang820118\",\n",
    "        )\n",
    "import comet_ml\n",
    "import logging"
   ]
  },
  {
   "cell_type": "code",
   "execution_count": null,
   "metadata": {},
   "outputs": [],
   "source": [
    "logging.basicConfig(level=logging.INFO)\n",
    "LOGGER = logging.getLogger(\"comet_ml\")"
   ]
  },
  {
   "cell_type": "code",
   "execution_count": null,
   "metadata": {},
   "outputs": [
    {
     "name": "stderr",
     "output_type": "stream",
     "text": [
      "INFO:numexpr.utils:Note: NumExpr detected 12 cores but \"NUMEXPR_MAX_THREADS\" not set, so enforcing safe limit of 8.\n",
      "INFO:numexpr.utils:NumExpr defaulting to 8 threads.\n"
     ]
    }
   ],
   "source": [
    "import pandas as pd\n",
    "import numpy as np\n",
    "import seaborn as sns\n",
    "import matplotlib.pyplot as plt\n",
    "from tensorflow import keras\n",
    "\n",
    "%matplotlib inline\n",
    "sns.set_style('whitegrid')"
   ]
  },
  {
   "cell_type": "code",
   "execution_count": null,
   "metadata": {},
   "outputs": [],
   "source": [
    "# tensorflow 2.7 \n",
    "import tensorflow as tf \n",
    "from tensorflow.keras.layers import Input,Flatten,Dense,Dropout,BatchNormalization\n",
    "from tensorflow.keras.models import Model, Sequential"
   ]
  },
  {
   "cell_type": "code",
   "execution_count": null,
   "metadata": {},
   "outputs": [],
   "source": [
    "# scale the numeric data\n",
    "from sklearn.preprocessing import StandardScaler\n",
    "scaler = StandardScaler()"
   ]
  },
  {
   "cell_type": "code",
   "execution_count": null,
   "metadata": {},
   "outputs": [],
   "source": [
    "df_train_features = pd.read_csv('data/train_features.csv')\n",
    "df_train_labels = pd.read_csv('data/train_labels.csv')\n",
    "\n",
    "df_valid_features = pd.read_csv('data/valid_features.csv')\n",
    "df_valid_labels = pd.read_csv('data/valid_labels.csv')\n",
    "\n",
    "df_test_features = pd.read_csv('data/test_features.csv')\n",
    "df_test_labels = pd.read_csv('data/test_labels.csv')"
   ]
  },
  {
   "cell_type": "code",
   "execution_count": null,
   "metadata": {},
   "outputs": [],
   "source": [
    "num_train_data = df_train_features.iloc[:,9:]\n",
    "num_valid_data = df_valid_features.iloc[:,9:]\n",
    "num_test_data = df_test_features.iloc[:,9:]"
   ]
  },
  {
   "cell_type": "code",
   "execution_count": null,
   "metadata": {},
   "outputs": [],
   "source": [
    "num_train = num_train_data.astype('float64')\n",
    "num_valid = num_valid_data.astype('float64')\n",
    "num_test = num_test_data.astype('float64')"
   ]
  },
  {
   "cell_type": "code",
   "execution_count": null,
   "metadata": {},
   "outputs": [],
   "source": [
    "num_train = scaler.fit_transform(num_train_data)\n",
    "num_valid = scaler.fit_transform(num_valid_data)\n",
    "num_test = scaler.fit_transform(num_test_data)"
   ]
  },
  {
   "cell_type": "code",
   "execution_count": null,
   "metadata": {},
   "outputs": [],
   "source": [
    "num_train_y = pd.get_dummies(df_train_labels['genre'])\n",
    "num_valid_y = pd.get_dummies(df_valid_labels['genre'])"
   ]
  },
  {
   "cell_type": "code",
   "execution_count": null,
   "metadata": {},
   "outputs": [],
   "source": [
    "from sklearn.utils import class_weight\n",
    "class_weight = class_weight.compute_class_weight(class_weight='balanced', classes=np.unique(df_train_labels['genre']),y=df_train_labels['genre'])\n",
    "class_weight = {i :class_weight[i] for i in range(8)}"
   ]
  },
  {
   "cell_type": "code",
   "execution_count": null,
   "metadata": {},
   "outputs": [],
   "source": [
    "from tensorflow.keras.callbacks import EarlyStopping\n",
    "early_stop = EarlyStopping(monitor='val_loss',patience=5)"
   ]
  },
  {
   "cell_type": "code",
   "execution_count": null,
   "metadata": {},
   "outputs": [],
   "source": [
    "class AudioGenreClassifier:\n",
    "    def __init__(self,num_train,num_train_y,num_valid,num_valid_y,class_weight,early_stop,experiment):\n",
    "        self.num_train = num_train\n",
    "        self.num_train_y = num_train_y\n",
    "        self.num_valid = num_valid\n",
    "        self.num_valid_y = num_valid_y\n",
    "        self.class_weight = class_weight\n",
    "        self.early_stop = early_stop\n",
    "        self.experiment = experiment\n",
    "    \n",
    "    def build_model(self):\n",
    "        # Build the model\n",
    "        model = Sequential()\n",
    "        model.add(\n",
    "            Dense(\n",
    "                self.experiment.get_parameter(\"first_layer_units\"),\n",
    "                activation='elu',\n",
    "                input_shape=(num_train.shape[1],)\n",
    "            )\n",
    "        )\n",
    "        model.add(Dropout(self.experiment.get_parameter(\"first_layer_dropout_rate\")))\n",
    "        model.add(BatchNormalization())\n",
    "\n",
    "        model.add(\n",
    "            Dense(\n",
    "                self.experiment.get_parameter(\"second_layer_units\"),\n",
    "                activation='elu'))\n",
    "        model.add(Dropout(self.experiment.get_parameter(\"second_layer_dropout_rate\")))\n",
    "        model.add(BatchNormalization())\n",
    "        \n",
    "        model.add(Dense(8,activation='softmax'))\n",
    "        model.compile(\n",
    "            optimizer='adam',\n",
    "            loss='categorical_crossentropy',\n",
    "            metrics=['accuracy']\n",
    "        )\n",
    "        return model\n",
    "    \n",
    "    def train_model(self):\n",
    "        # Train the model\n",
    "        model = self.build_model()\n",
    "        model.fit(\n",
    "            self.num_train,\n",
    "            self.num_train_y,\n",
    "            batch_size=self.experiment.get_parameter(\"batch_size\"),\n",
    "            epochs=self.experiment.get_parameter(\"epochs\"),\n",
    "            validation_data=(self.num_valid,self.num_valid_y),\n",
    "            class_weight=self.class_weight,\n",
    "            callbacks=[self.early_stop]\n",
    "        )\n",
    "        return model\n",
    "    \n",
    "    def evaluate_model(self):\n",
    "        # Evaluate the model\n",
    "        model = self.train_model()\n",
    "        score = model.evaluate(self.num_valid,self.num_valid_y)\n",
    "        LOGGER.info(f\"{ score }\")\n",
    "    \n",
    "    def grid_search(self, config_dict):\n",
    "        opt = comet_ml.Optimizer(config_dict)\n",
    "        for self.experiment in opt.get_experiments(project_name=\"music-genre-multiclass-classification\"):\n",
    "            self.experiment.log_parameters(\"epochs\", 10)\n",
    "\n",
    "            self.build_model()\n",
    "            self.train_model()\n",
    "            self.evaluate_model()\n",
    "            self.experiment.end()"
   ]
  },
  {
   "cell_type": "code",
   "execution_count": null,
   "metadata": {},
   "outputs": [
    {
     "name": "stderr",
     "output_type": "stream",
     "text": [
      "COMET INFO: COMET_OPTIMIZER_ID=879bfda029bc40219d0bf59cb1535707\n",
      "COMET INFO: Using optimizer config: {'algorithm': 'bayes', 'configSpaceSize': 63, 'endTime': None, 'id': '879bfda029bc40219d0bf59cb1535707', 'lastUpdateTime': None, 'maxCombo': 10, 'name': 'Optimize Music Classification Network', 'parameters': {'batch_size': {'type': 'discrete', 'values': [16, 32, 64]}, 'epochs': {'type': 'discrete', 'values': [20, 30, 40]}, 'first_layer_units': {'type': 'discrete', 'values': [128, 256, 300, 400, 450, 500, 550]}}, 'predictor': None, 'spec': {'gridSize': 10, 'maxCombo': 10, 'metric': 'loss', 'minSampleSize': 100, 'objective': 'minimize', 'retryAssignLimit': 0, 'retryLimit': 1000}, 'startTime': 27540902528, 'state': {'mode': None, 'seed': None, 'sequence': [], 'sequence_i': 0, 'sequence_pid': None, 'sequence_retry': 0, 'sequence_retry_count': 0}, 'status': 'running', 'suggestion_count': 0, 'trials': 1, 'version': '2.0.1'}\n",
      "COMET INFO: ---------------------------\n",
      "COMET INFO: Comet.ml Experiment Summary\n",
      "COMET INFO: ---------------------------\n",
      "COMET INFO:   Data:\n",
      "COMET INFO:     display_summary_level : 1\n",
      "COMET INFO:     url                   : https://www.comet.ml/wodenwang820118/music-genre-multiclass-classification/d4b9a1ceb84e4f879f7dbcf98a57aa38\n",
      "COMET INFO:   Parameters:\n",
      "COMET INFO:     copy      : True\n",
      "COMET INFO:     with_mean : True\n",
      "COMET INFO:     with_std  : True\n",
      "COMET INFO:   Uploads:\n",
      "COMET INFO:     environment details      : 1\n",
      "COMET INFO:     filename                 : 1\n",
      "COMET INFO:     git metadata             : 1\n",
      "COMET INFO:     git-patch (uncompressed) : 1 (182.54 KB)\n",
      "COMET INFO:     installed packages       : 1\n",
      "COMET INFO:     notebook                 : 1\n",
      "COMET INFO:     source_code              : 1\n",
      "COMET INFO: ---------------------------\n",
      "COMET WARNING: As you are running in a Jupyter environment, you will need to call `experiment.end()` when finished to ensure all metrics and code are logged before exiting.\n",
      "COMET INFO: Experiment is live on comet.ml https://www.comet.ml/wodenwang820118/music-genre-multiclass-classification/0196687d45964f7dadcd28ba7123a0b4\n",
      "\n",
      "COMET WARNING: 'epochs' passed to log_params converted to an empty maping; ignoring\n",
      "COMET INFO: Ignoring automatic log_parameter('verbose') because 'keras:verbose' is in COMET_LOGGING_PARAMETERS_IGNORE\n"
     ]
    },
    {
     "name": "stdout",
     "output_type": "stream",
     "text": [
      "Epoch 1/40\n"
     ]
    },
    {
     "name": "stderr",
     "output_type": "stream",
     "text": [
      "COMET INFO: ignoring tensorflow summary log of metrics because of keras; set `comet_ml.loggers.tensorboard_logger.LOG_METRICS = True` to override\n"
     ]
    },
    {
     "name": "stdout",
     "output_type": "stream",
     "text": [
      "120/120 [==============================] - 4s 13ms/step - loss: 1.7355 - accuracy: 0.3509 - val_loss: 1.4223 - val_accuracy: 0.4778\n",
      "Epoch 2/40\n",
      "120/120 [==============================] - 1s 9ms/step - loss: 1.4821 - accuracy: 0.4415 - val_loss: 1.4576 - val_accuracy: 0.4733\n",
      "Epoch 3/40\n",
      "120/120 [==============================] - 1s 10ms/step - loss: 1.4203 - accuracy: 0.4693 - val_loss: 1.3723 - val_accuracy: 0.5089\n",
      "Epoch 4/40\n",
      "120/120 [==============================] - 1s 11ms/step - loss: 1.3609 - accuracy: 0.4884 - val_loss: 1.4155 - val_accuracy: 0.4778\n",
      "Epoch 5/40\n",
      "120/120 [==============================] - 1s 10ms/step - loss: 1.3189 - accuracy: 0.4975 - val_loss: 1.3666 - val_accuracy: 0.5089\n",
      "Epoch 6/40\n",
      "120/120 [==============================] - 1s 9ms/step - loss: 1.3078 - accuracy: 0.5020 - val_loss: 1.3702 - val_accuracy: 0.4933\n",
      "Epoch 7/40\n",
      "120/120 [==============================] - 2s 13ms/step - loss: 1.2701 - accuracy: 0.5218 - val_loss: 1.3230 - val_accuracy: 0.5289\n",
      "Epoch 8/40\n",
      "120/120 [==============================] - 1s 12ms/step - loss: 1.2579 - accuracy: 0.5245 - val_loss: 1.3944 - val_accuracy: 0.4889\n",
      "Epoch 9/40\n",
      "120/120 [==============================] - 1s 11ms/step - loss: 1.2470 - accuracy: 0.5283 - val_loss: 1.3711 - val_accuracy: 0.5089\n",
      "Epoch 10/40\n",
      "120/120 [==============================] - 1s 10ms/step - loss: 1.2380 - accuracy: 0.5320 - val_loss: 1.3687 - val_accuracy: 0.5022\n",
      "Epoch 11/40\n",
      "120/120 [==============================] - 1s 8ms/step - loss: 1.2181 - accuracy: 0.5300 - val_loss: 1.3295 - val_accuracy: 0.5089\n",
      "Epoch 12/40\n",
      "120/120 [==============================] - 1s 9ms/step - loss: 1.2169 - accuracy: 0.5409 - val_loss: 1.3312 - val_accuracy: 0.5111\n",
      "Epoch 1/40\n",
      "120/120 [==============================] - 2s 13ms/step - loss: 1.7511 - accuracy: 0.3573 - val_loss: 1.4884 - val_accuracy: 0.4733\n",
      "Epoch 2/40\n",
      "120/120 [==============================] - 1s 12ms/step - loss: 1.4952 - accuracy: 0.4332 - val_loss: 1.4589 - val_accuracy: 0.4756\n",
      "Epoch 3/40\n",
      "120/120 [==============================] - 1s 11ms/step - loss: 1.4133 - accuracy: 0.4703 - val_loss: 1.4058 - val_accuracy: 0.5133\n",
      "Epoch 4/40\n",
      "120/120 [==============================] - 1s 9ms/step - loss: 1.3696 - accuracy: 0.4829 - val_loss: 1.3888 - val_accuracy: 0.5089\n",
      "Epoch 5/40\n",
      "120/120 [==============================] - 1s 10ms/step - loss: 1.3454 - accuracy: 0.4809 - val_loss: 1.4354 - val_accuracy: 0.4644\n",
      "Epoch 6/40\n",
      "120/120 [==============================] - 1s 11ms/step - loss: 1.3087 - accuracy: 0.4999 - val_loss: 1.3731 - val_accuracy: 0.5000\n",
      "Epoch 7/40\n",
      "120/120 [==============================] - 1s 12ms/step - loss: 1.2881 - accuracy: 0.5168 - val_loss: 1.2986 - val_accuracy: 0.5511\n",
      "Epoch 8/40\n",
      "120/120 [==============================] - 1s 12ms/step - loss: 1.2689 - accuracy: 0.5201 - val_loss: 1.3759 - val_accuracy: 0.4911\n",
      "Epoch 9/40\n",
      "120/120 [==============================] - 1s 12ms/step - loss: 1.2562 - accuracy: 0.5228 - val_loss: 1.3455 - val_accuracy: 0.5133\n",
      "Epoch 10/40\n",
      "120/120 [==============================] - 1s 11ms/step - loss: 1.2463 - accuracy: 0.5207 - val_loss: 1.3264 - val_accuracy: 0.5400\n",
      "Epoch 11/40\n",
      "120/120 [==============================] - 1s 10ms/step - loss: 1.2388 - accuracy: 0.5250 - val_loss: 1.3116 - val_accuracy: 0.5222\n",
      "Epoch 12/40\n",
      "120/120 [==============================] - 1s 8ms/step - loss: 1.2303 - accuracy: 0.5275 - val_loss: 1.3666 - val_accuracy: 0.5089\n",
      "15/15 [==============================] - 0s 4ms/step - loss: 1.3666 - accuracy: 0.5089\n"
     ]
    },
    {
     "name": "stderr",
     "output_type": "stream",
     "text": [
      "COMET INFO: [1.3665591478347778, 0.5088889002799988]\n",
      "COMET INFO: ---------------------------\n",
      "COMET INFO: Comet.ml Experiment Summary\n",
      "COMET INFO: ---------------------------\n",
      "COMET INFO:   Data:\n",
      "COMET INFO:     display_summary_level : 1\n",
      "COMET INFO:     url                   : https://www.comet.ml/wodenwang820118/music-genre-multiclass-classification/0196687d45964f7dadcd28ba7123a0b4\n",
      "COMET INFO:   Metrics [count] (min, max):\n",
      "COMET INFO:     accuracy [24]                : (0.35087263584136963, 0.5408960580825806)\n",
      "COMET INFO:     batch_accuracy [288]         : (0.0625, 0.609375)\n",
      "COMET INFO:     batch_loss [288]             : (0.8443261384963989, 2.985323429107666)\n",
      "COMET INFO:     epoch_duration [24]          : (0.9539999999997235, 3.969000000000051)\n",
      "COMET INFO:     loss [24]                    : (1.2168821096420288, 1.7510747909545898)\n",
      "COMET INFO:     val_accuracy [24]            : (0.46444445848464966, 0.551111102104187)\n",
      "COMET INFO:     val_loss [24]                : (1.2986239194869995, 1.4884159564971924)\n",
      "COMET INFO:     validate_batch_accuracy [24] : (0.40625, 0.5)\n",
      "COMET INFO:     validate_batch_loss [24]     : (1.3384923934936523, 1.635453701019287)\n",
      "COMET INFO:   Others:\n",
      "COMET INFO:     optimizer_count        : 1\n",
      "COMET INFO:     optimizer_id           : 879bfda029bc40219d0bf59cb1535707\n",
      "COMET INFO:     optimizer_metric       : loss\n",
      "COMET INFO:     optimizer_metric_value : 1.2168821096420288\n",
      "COMET INFO:     optimizer_objective    : minimum\n",
      "COMET INFO:     optimizer_parameters   : {\"batch_size\": 64, \"epochs\": 40, \"first_layer_units\": 550}\n",
      "COMET INFO:     optimizer_pid          : 669b48d81baee9aaebec4081c1447a3a4287a065\n",
      "COMET INFO:     optimizer_process      : 19772\n",
      "COMET INFO:     optimizer_trial        : 1\n",
      "COMET INFO:     optimizer_version      : 2.0.1\n",
      "COMET INFO:     trainable_params       : 102174\n",
      "COMET INFO:   Parameters:\n",
      "COMET INFO:     Adam_amsgrad       : False\n",
      "COMET INFO:     Adam_beta_1        : 0.9\n",
      "COMET INFO:     Adam_beta_2        : 0.999\n",
      "COMET INFO:     Adam_decay         : 0.0\n",
      "COMET INFO:     Adam_epsilon       : 1e-07\n",
      "COMET INFO:     Adam_learning_rate : 0.001\n",
      "COMET INFO:     Adam_name          : Adam\n",
      "COMET INFO:     Optimizer          : Adam\n",
      "COMET INFO:     batch_size         : 64\n",
      "COMET INFO:     epochs             : 40\n",
      "COMET INFO:     first_layer_units  : 550\n",
      "COMET INFO:     steps              : 120\n",
      "COMET INFO:   Uploads:\n",
      "COMET INFO:     environment details      : 1\n",
      "COMET INFO:     filename                 : 1\n",
      "COMET INFO:     git metadata             : 1\n",
      "COMET INFO:     git-patch (uncompressed) : 1 (182.54 KB)\n",
      "COMET INFO:     installed packages       : 1\n",
      "COMET INFO:     model graph              : 1\n",
      "COMET INFO:     notebook                 : 1\n",
      "COMET INFO:     source_code              : 1\n",
      "COMET INFO: ---------------------------\n",
      "COMET INFO: Uploading metrics, params, and assets to Comet before program termination (may take several seconds)\n",
      "COMET INFO: The Python SDK has 3600 seconds to finish before aborting...\n",
      "COMET INFO: Waiting for completion of the file uploads (may take several seconds)\n",
      "COMET INFO: The Python SDK has 10800 seconds to finish before aborting...\n",
      "COMET INFO: All files uploaded, waiting for confirmation they have been all received\n",
      "COMET WARNING: As you are running in a Jupyter environment, you will need to call `experiment.end()` when finished to ensure all metrics and code are logged before exiting.\n",
      "COMET INFO: Experiment is live on comet.ml https://www.comet.ml/wodenwang820118/music-genre-multiclass-classification/2cde051871e64ed28f8c8cac3ea753d0\n",
      "\n"
     ]
    },
    {
     "name": "stdout",
     "output_type": "stream",
     "text": [
      "Epoch 1/20\n",
      "480/480 [==============================] - 6s 11ms/step - loss: 1.7780 - accuracy: 0.3442 - val_loss: 1.4530 - val_accuracy: 0.4511\n",
      "Epoch 2/20\n",
      "480/480 [==============================] - 5s 10ms/step - loss: 1.5424 - accuracy: 0.4164 - val_loss: 1.4388 - val_accuracy: 0.4644\n",
      "Epoch 3/20\n",
      "480/480 [==============================] - 5s 11ms/step - loss: 1.4808 - accuracy: 0.4311 - val_loss: 1.4323 - val_accuracy: 0.4689\n",
      "Epoch 4/20\n",
      "480/480 [==============================] - 6s 12ms/step - loss: 1.4180 - accuracy: 0.4624 - val_loss: 1.4084 - val_accuracy: 0.5044\n",
      "Epoch 5/20\n",
      "480/480 [==============================] - 6s 12ms/step - loss: 1.4283 - accuracy: 0.4561 - val_loss: 1.4350 - val_accuracy: 0.4756\n",
      "Epoch 6/20\n",
      "480/480 [==============================] - 5s 11ms/step - loss: 1.4034 - accuracy: 0.4638 - val_loss: 1.3837 - val_accuracy: 0.5133\n",
      "Epoch 7/20\n",
      "480/480 [==============================] - 5s 11ms/step - loss: 1.3807 - accuracy: 0.4819 - val_loss: 1.3413 - val_accuracy: 0.5244\n",
      "Epoch 8/20\n",
      "480/480 [==============================] - 6s 12ms/step - loss: 1.3698 - accuracy: 0.4845 - val_loss: 1.4175 - val_accuracy: 0.4800\n",
      "Epoch 9/20\n",
      "480/480 [==============================] - 5s 11ms/step - loss: 1.3489 - accuracy: 0.4908 - val_loss: 1.4388 - val_accuracy: 0.4822\n",
      "Epoch 10/20\n",
      "480/480 [==============================] - 5s 10ms/step - loss: 1.3421 - accuracy: 0.4921 - val_loss: 1.4124 - val_accuracy: 0.4822\n",
      "Epoch 11/20\n",
      "480/480 [==============================] - 5s 10ms/step - loss: 1.3196 - accuracy: 0.4982 - val_loss: 1.3931 - val_accuracy: 0.5089\n",
      "Epoch 12/20\n",
      "317/480 [==================>...........] - ETA: 1s - loss: 1.3182 - accuracy: 0.4980"
     ]
    }
   ],
   "source": [
    "audio_model = AudioGenreClassifier(num_train,num_train_y,num_valid,num_valid_y,class_weight,early_stop,experiment)\n",
    "# mu is the mean number of units, sigma is the standard deviation\n",
    "audio_model.grid_search({\n",
    "    \"algorithm\": \"bayes\",\n",
    "    \"name\": \"Optimize Music Classification Network\",\n",
    "    \"spec\": {\"maxCombo\": 10, \"objective\": \"minimize\", \"metric\": \"loss\"},\n",
    "    \"parameters\": {\n",
    "        \"first_layer_units\": {\"type\": \"discrete\", \"values\": [128,256,300,400,450,500,550,600,700,800,900,1000]},\n",
    "        \"first_layer_dropout_rate\": {\"type\": \"discrete\", \"values\": [0.1,0.2,0.3,0.4,0.5,0.6,0.7,0.8,0.9]},\n",
    "        \"second_layer_units\": {\"type\": \"discrete\", \"values\": [128,256,300,400,450,500,550]},\n",
    "        \"second_layer_dropout_rate\": {\"type\": \"discrete\", \"values\": [0,0.1,0.2,0.3,0.4,0.5,0.6]},\n",
    "        \"batch_size\": {\"type\": \"discrete\", \"values\": [16,32,64]},\n",
    "        \"epochs\": {\"type\": \"discrete\", \"values\": [20,30,40]},\n",
    "    },\n",
    "    \"trials\": 1,\n",
    "})"
   ]
  },
  {
   "cell_type": "code",
   "execution_count": null,
   "metadata": {},
   "outputs": [],
   "source": [
    "model = Sequential()\n",
    "model.add(\n",
    "    Dense(\n",
    "        400,\n",
    "        activation='elu',\n",
    "        input_shape=(num_train.shape[1],)\n",
    "    )\n",
    ")\n",
    "model.add(Dropout(0.5))\n",
    "model.add(BatchNormalization())\n",
    "\n",
    "model.add(Dense(32,activation='elu'))\n",
    "model.add(Dropout(0.3))\n",
    "model.add(BatchNormalization())\n",
    "\n",
    "model.add(Dense(8,activation='softmax'))\n",
    "model.compile(\n",
    "    optimizer='adam',\n",
    "    loss='categorical_crossentropy',\n",
    "    metrics=['accuracy']\n",
    ")"
   ]
  },
  {
   "cell_type": "code",
   "execution_count": null,
   "metadata": {},
   "outputs": [
    {
     "name": "stdout",
     "output_type": "stream",
     "text": [
      "Epoch 1/40\n",
      "120/120 [==============================] - 1s 7ms/step - loss: 1.7323 - accuracy: 0.3442 - val_loss: 1.4725 - val_accuracy: 0.4444\n",
      "Epoch 2/40\n",
      "120/120 [==============================] - 1s 4ms/step - loss: 1.4953 - accuracy: 0.4315 - val_loss: 1.4363 - val_accuracy: 0.4578\n",
      "Epoch 3/40\n",
      "120/120 [==============================] - 0s 4ms/step - loss: 1.3996 - accuracy: 0.4700 - val_loss: 1.4465 - val_accuracy: 0.4467\n",
      "Epoch 4/40\n",
      "120/120 [==============================] - 0s 3ms/step - loss: 1.3769 - accuracy: 0.4859 - val_loss: 1.3990 - val_accuracy: 0.4867\n",
      "Epoch 5/40\n",
      "120/120 [==============================] - 0s 4ms/step - loss: 1.3462 - accuracy: 0.5005 - val_loss: 1.3450 - val_accuracy: 0.5089\n",
      "Epoch 6/40\n",
      "120/120 [==============================] - 0s 3ms/step - loss: 1.3144 - accuracy: 0.5046 - val_loss: 1.3227 - val_accuracy: 0.5400\n",
      "Epoch 7/40\n",
      "120/120 [==============================] - 0s 3ms/step - loss: 1.3045 - accuracy: 0.5138 - val_loss: 1.3691 - val_accuracy: 0.5200\n",
      "Epoch 8/40\n",
      "120/120 [==============================] - 0s 3ms/step - loss: 1.2833 - accuracy: 0.5162 - val_loss: 1.4172 - val_accuracy: 0.4911\n",
      "Epoch 9/40\n",
      "120/120 [==============================] - 0s 4ms/step - loss: 1.2700 - accuracy: 0.5250 - val_loss: 1.3764 - val_accuracy: 0.5111\n",
      "Epoch 10/40\n",
      "120/120 [==============================] - 0s 3ms/step - loss: 1.2578 - accuracy: 0.5285 - val_loss: 1.3887 - val_accuracy: 0.5156\n",
      "Epoch 11/40\n",
      "120/120 [==============================] - 0s 3ms/step - loss: 1.2428 - accuracy: 0.5270 - val_loss: 1.3469 - val_accuracy: 0.5244\n"
     ]
    },
    {
     "data": {
      "text/plain": [
       "<keras.callbacks.History at 0x21f8a86d310>"
      ]
     },
     "execution_count": 16,
     "metadata": {},
     "output_type": "execute_result"
    }
   ],
   "source": [
    "model.fit(\n",
    "    num_train,\n",
    "    num_train_y,\n",
    "    batch_size=64,\n",
    "    epochs=40,\n",
    "    validation_data=(num_valid,num_valid_y),\n",
    "    class_weight=class_weight,\n",
    "    callbacks=[early_stop],\n",
    ")"
   ]
  },
  {
   "cell_type": "code",
   "execution_count": null,
   "metadata": {},
   "outputs": [
    {
     "name": "stdout",
     "output_type": "stream",
     "text": [
      "                       precision    recall  f1-score   support\n",
      "\n",
      " classic pop and rock       0.34      0.45      0.39        55\n",
      "dance and electronica       0.41      0.40      0.40        45\n",
      "                 folk       0.42      0.53      0.47        64\n",
      "       jazz and blues       0.54      0.50      0.52        44\n",
      "                metal       0.92      0.68      0.78        66\n",
      "                  pop       0.56      0.42      0.48        74\n",
      "                 punk       0.49      0.70      0.58        44\n",
      "      soul and reggae       0.70      0.52      0.59        58\n",
      "\n",
      "             accuracy                           0.52       450\n",
      "            macro avg       0.55      0.53      0.53       450\n",
      "         weighted avg       0.56      0.52      0.53       450\n",
      "\n"
     ]
    }
   ],
   "source": [
    "from sklearn.metrics import classification_report\n",
    "validation = model.predict(num_valid)\n",
    "validation = validation.argmax(axis=1)\n",
    "classes_mapping = {\n",
    "    0: 'classic pop and rock',\n",
    "    1: 'dance and electronica',\n",
    "    2: 'folk',\n",
    "    3: 'jazz and blues',\n",
    "    4: 'metal',\n",
    "    5: 'pop',\n",
    "    6: 'punk',\n",
    "    7: 'soul and reggae',\n",
    "}\n",
    "predict_label_array = np.vectorize(classes_mapping.get)(validation)\n",
    "correct_labels = df_valid_labels['genre'].values\n",
    "print(classification_report(correct_labels,predict_label_array))"
   ]
  },
  {
   "cell_type": "code",
   "execution_count": null,
   "metadata": {},
   "outputs": [
    {
     "name": "stdout",
     "output_type": "stream",
     "text": [
      "                       precision    recall  f1-score   support\n",
      "\n",
      " classic pop and rock       0.24      0.31      0.27        64\n",
      "dance and electronica       0.55      0.36      0.43        64\n",
      "                 folk       0.58      0.58      0.58        73\n",
      "       jazz and blues       0.13      0.14      0.14        36\n",
      "                metal       0.49      0.43      0.46        42\n",
      "                  pop       0.33      0.48      0.39        44\n",
      "                 punk       0.27      0.33      0.29        40\n",
      "      soul and reggae       0.50      0.32      0.39        65\n",
      "\n",
      "             accuracy                           0.38       428\n",
      "            macro avg       0.39      0.37      0.37       428\n",
      "         weighted avg       0.41      0.38      0.39       428\n",
      "\n"
     ]
    }
   ],
   "source": [
    "from sklearn.metrics import classification_report\n",
    "validation = model.predict(num_test)\n",
    "validation = validation.argmax(axis=1)\n",
    "classes_mapping = {\n",
    "    0: 'classic pop and rock',\n",
    "    1: 'dance and electronica',\n",
    "    2: 'folk',\n",
    "    3: 'jazz and blues',\n",
    "    4: 'metal',\n",
    "    5: 'pop',\n",
    "    6: 'punk',\n",
    "    7: 'soul and reggae',\n",
    "}\n",
    "predict_label_array = np.vectorize(classes_mapping.get)(validation)\n",
    "correct_labels = df_test_labels['genre'].values\n",
    "print(classification_report(correct_labels,predict_label_array))"
   ]
  }
 ],
 "metadata": {
  "interpreter": {
   "hash": "984944ce4eefbed249e2a3501e72ee0777f56e66d10a0a53283275062444400f"
  },
  "kernelspec": {
   "display_name": "Python 3.9.6 64-bit",
   "language": "python",
   "name": "python3"
  },
  "language_info": {
   "codemirror_mode": {
    "name": "ipython",
    "version": 3
   },
   "file_extension": ".py",
   "mimetype": "text/x-python",
   "name": "python",
   "nbconvert_exporter": "python",
   "pygments_lexer": "ipython3",
   "version": "3.9.7"
  },
  "orig_nbformat": 4
 },
 "nbformat": 4,
 "nbformat_minor": 2
}
