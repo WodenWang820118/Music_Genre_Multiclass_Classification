{
  "cells": [
    {
      "cell_type": "code",
      "execution_count": 1,
      "metadata": {
        "id": "IVF1QAFMqWFQ"
      },
      "outputs": [
        {
          "name": "stderr",
          "output_type": "stream",
          "text": [
            "COMET WARNING: As you are running in a Jupyter environment, you will need to call `experiment.end()` when finished to ensure all metrics and code are logged before exiting.\n",
            "COMET INFO: Experiment is live on comet.ml https://www.comet.ml/wodenwang820118/music-genre-multiclass-classification/01254c17d1b74352b5c30297e7e02aaa\n",
            "\n"
          ]
        }
      ],
      "source": [
        "# import comet_ml at the top of your file\n",
        "from comet_ml import Experiment\n",
        "experiment = Experiment(\n",
        "            project_name=\"music-genre-multiclass-classification\",\n",
        "            workspace=\"wodenwang820118\",\n",
        "        )\n",
        "import comet_ml\n",
        "import logging"
      ]
    },
    {
      "cell_type": "code",
      "execution_count": 2,
      "metadata": {
        "id": "9ILR8b9iqWFT"
      },
      "outputs": [],
      "source": [
        "logging.basicConfig(level=logging.INFO)\n",
        "LOGGER = logging.getLogger(\"comet_ml\")"
      ]
    },
    {
      "cell_type": "code",
      "execution_count": 3,
      "metadata": {
        "id": "oVs1niF8qWFT"
      },
      "outputs": [
        {
          "name": "stderr",
          "output_type": "stream",
          "text": [
            "INFO:numexpr.utils:Note: NumExpr detected 12 cores but \"NUMEXPR_MAX_THREADS\" not set, so enforcing safe limit of 8.\n",
            "INFO:numexpr.utils:NumExpr defaulting to 8 threads.\n"
          ]
        }
      ],
      "source": [
        "import pandas as pd\n",
        "import numpy as np\n",
        "import seaborn as sns\n",
        "import matplotlib.pyplot as plt\n",
        "from tensorflow import keras\n",
        "from keras.utils.np_utils import to_categorical\n",
        "\n",
        "%matplotlib inline\n",
        "sns.set_style('whitegrid')"
      ]
    },
    {
      "cell_type": "code",
      "execution_count": 4,
      "metadata": {
        "id": "qK6paQkcqWFU"
      },
      "outputs": [],
      "source": [
        "# tensorflow 2.7 \n",
        "import tensorflow as tf \n",
        "from tensorflow.keras.layers import Input,Flatten,Dense,Dropout,BatchNormalization,Conv2D,MaxPooling2D,Conv1D,MaxPooling1D\n",
        "from tensorflow.keras.models import Model, Sequential\n",
        "from tensorflow.keras import layers,activations"
      ]
    },
    {
      "cell_type": "code",
      "execution_count": 5,
      "metadata": {
        "id": "51KyktsFqWFU"
      },
      "outputs": [],
      "source": [
        "# scale the numeric data\n",
        "from sklearn.preprocessing import StandardScaler,RobustScaler,MinMaxScaler\n",
        "scaler = StandardScaler()"
      ]
    },
    {
      "cell_type": "code",
      "execution_count": 7,
      "metadata": {
        "id": "Ptd5eIR-qWFU"
      },
      "outputs": [],
      "source": [
        "df_train_features = pd.read_csv('data/train_features.csv')\n",
        "df_train_labels = pd.read_csv('data/train_labels.csv')\n",
        "\n",
        "df_valid_features = pd.read_csv('data/valid_features.csv')\n",
        "df_valid_labels = pd.read_csv('data/valid_labels.csv')\n",
        "\n",
        "df_test_features = pd.read_csv('data/test_features.csv')\n",
        "df_test_labels = pd.read_csv('data/test_labels.csv')"
      ]
    },
    {
      "cell_type": "code",
      "execution_count": 8,
      "metadata": {
        "id": "WSyLMF-UqWFV"
      },
      "outputs": [],
      "source": [
        "num_train_data = df_train_features.iloc[:,9:]\n",
        "num_valid_data = df_valid_features.iloc[:,9:]\n",
        "num_test_data = df_test_features.iloc[:,9:]"
      ]
    },
    {
      "cell_type": "code",
      "execution_count": 10,
      "metadata": {
        "id": "Elqo7aDjuRik"
      },
      "outputs": [],
      "source": [
        "num_train = num_train_data.astype('float64')\n",
        "num_valid = num_valid_data.astype('float64')\n",
        "num_test = num_test_data.astype('float64')"
      ]
    },
    {
      "cell_type": "code",
      "execution_count": 11,
      "metadata": {
        "id": "Ou-x6xqJqWFV"
      },
      "outputs": [],
      "source": [
        "num_train = scaler.fit_transform(num_train_data)\n",
        "num_valid = scaler.fit_transform(num_valid_data)\n",
        "num_test = scaler.fit_transform(num_test_data)"
      ]
    },
    {
      "cell_type": "code",
      "execution_count": 12,
      "metadata": {
        "id": "ffBh7mJJtqca"
      },
      "outputs": [
        {
          "data": {
            "text/plain": [
              "(7678, 148)"
            ]
          },
          "execution_count": 12,
          "metadata": {},
          "output_type": "execute_result"
        }
      ],
      "source": [
        "num_train.shape[0], num_train.shape[1]"
      ]
    },
    {
      "cell_type": "code",
      "execution_count": 13,
      "metadata": {
        "id": "79MqS49bu6cP"
      },
      "outputs": [],
      "source": [
        "num_train = num_train.reshape(num_train.shape[0],148,1)\n",
        "num_valid = num_valid.reshape(num_valid.shape[0],148,1)\n",
        "num_test = num_test.reshape(num_test.shape[0],148,1)"
      ]
    },
    {
      "cell_type": "code",
      "execution_count": 14,
      "metadata": {
        "id": "7UfzseKQtHJO"
      },
      "outputs": [],
      "source": [
        "from sklearn.preprocessing import LabelEncoder\n",
        "encoder = LabelEncoder()"
      ]
    },
    {
      "cell_type": "code",
      "execution_count": 15,
      "metadata": {
        "id": "Ko7YD1HKqWFW"
      },
      "outputs": [],
      "source": [
        "num_train_y = to_categorical(encoder.fit_transform(df_train_labels['genre']),num_classes=8)\n",
        "num_valid_y = to_categorical(encoder.fit_transform(df_valid_labels['genre']),num_classes=8)"
      ]
    },
    {
      "cell_type": "code",
      "execution_count": 16,
      "metadata": {
        "id": "BDiihOlhqWFW"
      },
      "outputs": [],
      "source": [
        "from sklearn.utils import class_weight\n",
        "class_weight = class_weight.compute_class_weight(class_weight='balanced', classes=np.unique(df_train_labels['genre']),y=df_train_labels['genre'])\n",
        "class_weight = {i :class_weight[i] for i in range(8)}"
      ]
    },
    {
      "cell_type": "code",
      "execution_count": 17,
      "metadata": {
        "id": "HGKnPggNqWFW"
      },
      "outputs": [],
      "source": [
        "from tensorflow.keras.callbacks import EarlyStopping\n",
        "early_stop = EarlyStopping(monitor='val_loss',patience=5,restore_best_weights=True)\n",
        "reduce_lr = keras.callbacks.ReduceLROnPlateau(monitor='val_loss', factor=0.7, patience=2, verbose=1, mode='auto', min_delta=0.00001, cooldown=0, min_lr=0.0001)"
      ]
    },
    {
      "cell_type": "code",
      "execution_count": 18,
      "metadata": {
        "id": "BNjqopjpqWFX"
      },
      "outputs": [],
      "source": [
        "class AudioGenreClassifier:\n",
        "    def __init__(self,num_train,num_train_y,num_valid,num_valid_y,class_weight,early_stop,experiment):\n",
        "        self.num_train = num_train\n",
        "        self.num_train_y = num_train_y\n",
        "        self.num_valid = num_valid\n",
        "        self.num_valid_y = num_valid_y\n",
        "        self.class_weight = class_weight\n",
        "        self.early_stop = early_stop\n",
        "        self.experiment = experiment\n",
        "    \n",
        "    def build_model(self):\n",
        "        # Build the model\n",
        "        # kernel size: https://stats.stackexchange.com/questions/296679/what-does-kernel-size-mean/339265\n",
        "        # strides: https://stackoverflow.com/questions/51542442/what-is-the-default-stride-length-in-keras-conv1d\n",
        "        # filters: output dimensions -> from small to the larger number to gradually grab the abstraction features and details\n",
        "        model = Sequential()\n",
        "        model.add(\n",
        "        Conv1D(\n",
        "          filters=self.experiment.get_parameter(\"first_layer_filters\"),\n",
        "          kernel_size=self.experiment.get_parameter(\"first_layer_kernels\"),\n",
        "          strides=1,\n",
        "          input_shape=(self.num_train.shape[1], self.num_train.shape[2]),\n",
        "          activation='relu',\n",
        "          padding='same'\n",
        "          )\n",
        "        )\n",
        "        model.add(MaxPooling1D())\n",
        "        model.add(BatchNormalization())\n",
        "       \n",
        "        model.add(Flatten())\n",
        "\n",
        "        model.add(\n",
        "            Dense(\n",
        "                units=self.experiment.get_parameter(\"first_layer_dense_units\"),\n",
        "                )\n",
        "            )\n",
        "        model.add(layers.Activation(activations.elu))\n",
        "        model.add(Dropout(self.experiment.get_parameter(\"first_layer_dropout_units\")))\n",
        "        model.add(BatchNormalization())\n",
        "\n",
        "        model.add(\n",
        "            Dense(\n",
        "                units=self.experiment.get_parameter(\"second_layer_dense_units\"),\n",
        "                )\n",
        "            )\n",
        "        model.add(layers.Activation(activations.elu))\n",
        "        model.add(Dropout(self.experiment.get_parameter(\"second_layer_dropout_units\")))\n",
        "        model.add(BatchNormalization())\n",
        "\n",
        "        model.add(\n",
        "            Dense(\n",
        "                units=self.experiment.get_parameter(\"third_layer_dense_units\"),\n",
        "                )\n",
        "            )\n",
        "        model.add(layers.Activation(activations.elu))\n",
        "        model.add(Dropout(self.experiment.get_parameter(\"third_layer_dropout_units\")))\n",
        "        model.add(BatchNormalization())\n",
        "\n",
        "        model.add(Dense(8,activation='softmax'))\n",
        "        optimizer = keras.optimizers.Adam(0.001)\n",
        "        model.compile(\n",
        "            optimizer=optimizer,\n",
        "            loss='categorical_crossentropy',\n",
        "            metrics=['accuracy']\n",
        "        )\n",
        "        return model\n",
        "    \n",
        "    def train_model(self):\n",
        "        # Train the model\n",
        "        model = self.build_model()\n",
        "        model.fit(\n",
        "            self.num_train,\n",
        "            self.num_train_y,\n",
        "            batch_size=self.experiment.get_parameter(\"batch_size\"),\n",
        "            epochs=self.experiment.get_parameter(\"epochs\"),\n",
        "            validation_data=(self.num_valid,self.num_valid_y),\n",
        "            shuffle=True,\n",
        "            class_weight=self.class_weight,\n",
        "            callbacks=[self.early_stop,reduce_lr]\n",
        "        )\n",
        "        return model\n",
        "    \n",
        "    def evaluate_model(self):\n",
        "        # Evaluate the model\n",
        "        model = self.train_model()\n",
        "        score = model.evaluate(self.num_valid,self.num_valid_y)\n",
        "        LOGGER.info(f\"{ score }\")\n",
        "    \n",
        "    def grid_search(self, config_dict):\n",
        "        opt = comet_ml.Optimizer(config_dict)\n",
        "        for self.experiment in opt.get_experiments(project_name=\"music-genre-multiclass-classification\"):\n",
        "\n",
        "            self.build_model()\n",
        "            self.train_model()\n",
        "            self.evaluate_model()\n",
        "            self.experiment.end()"
      ]
    },
    {
      "cell_type": "code",
      "execution_count": 19,
      "metadata": {
        "id": "IsXpDXVKqWFX"
      },
      "outputs": [
        {
          "name": "stderr",
          "output_type": "stream",
          "text": [
            "COMET INFO: COMET_OPTIMIZER_ID=892192d979524b1f8e391aec3f2457e3\n",
            "COMET INFO: Using optimizer config: {'algorithm': 'bayes', 'configSpaceSize': 1372000, 'endTime': None, 'id': '892192d979524b1f8e391aec3f2457e3', 'lastUpdateTime': None, 'maxCombo': 10, 'name': 'Optimize Music Classification Network', 'parameters': {'batch_size': {'type': 'discrete', 'values': [16, 32]}, 'epochs': {'type': 'discrete', 'values': [25]}, 'first_layer_dense_units': {'type': 'discrete', 'values': [700, 800, 900, 1000, 1100, 1200, 1300]}, 'first_layer_dropout_units': {'type': 'discrete', 'values': [0.4, 0.5, 0.6, 0.7, 0.8]}, 'first_layer_filters': {'type': 'discrete', 'values': [2, 4, 7, 8, 9, 10, 16]}, 'first_layer_kernels': {'type': 'discrete', 'values': [1, 2, 3, 4]}, 'second_layer_dense_units': {'type': 'discrete', 'values': [300, 400, 500, 600]}, 'second_layer_dropout_units': {'type': 'discrete', 'values': [0, 0.1, 0.2, 0.3, 0.4]}, 'third_layer_dense_units': {'type': 'discrete', 'values': [50, 60, 70, 80, 90, 100, 200]}, 'third_layer_dropout_units': {'type': 'discrete', 'values': [0, 0.1, 0.2, 0.3, 0.4]}}, 'predictor': None, 'spec': {'gridSize': 10, 'maxCombo': 10, 'metric': 'loss', 'minSampleSize': 100, 'objective': 'minimize', 'retryAssignLimit': 0, 'retryLimit': 1000}, 'startTime': 27537797242, 'state': {'mode': None, 'seed': None, 'sequence': [], 'sequence_i': 0, 'sequence_pid': None, 'sequence_retry': 0, 'sequence_retry_count': 0}, 'status': 'running', 'suggestion_count': 0, 'trials': 1, 'version': '2.0.1'}\n",
            "COMET INFO: ---------------------------\n",
            "COMET INFO: Comet.ml Experiment Summary\n",
            "COMET INFO: ---------------------------\n",
            "COMET INFO:   Data:\n",
            "COMET INFO:     display_summary_level : 1\n",
            "COMET INFO:     url                   : https://www.comet.ml/wodenwang820118/music-genre-multiclass-classification/01254c17d1b74352b5c30297e7e02aaa\n",
            "COMET INFO:   Parameters:\n",
            "COMET INFO:     copy      : True\n",
            "COMET INFO:     with_mean : True\n",
            "COMET INFO:     with_std  : True\n",
            "COMET INFO:   Uploads:\n",
            "COMET INFO:     environment details      : 1\n",
            "COMET INFO:     filename                 : 1\n",
            "COMET INFO:     git metadata             : 1\n",
            "COMET INFO:     git-patch (uncompressed) : 1 (61.80 KB)\n",
            "COMET INFO:     installed packages       : 1\n",
            "COMET INFO:     notebook                 : 1\n",
            "COMET INFO:     source_code              : 1\n",
            "COMET INFO: ---------------------------\n",
            "COMET WARNING: As you are running in a Jupyter environment, you will need to call `experiment.end()` when finished to ensure all metrics and code are logged before exiting.\n",
            "COMET INFO: Experiment is live on comet.ml https://www.comet.ml/wodenwang820118/music-genre-multiclass-classification/9e5e34c3f57040eea653006a958e2669\n",
            "\n",
            "COMET INFO: Ignoring automatic log_parameter('verbose') because 'keras:verbose' is in COMET_LOGGING_PARAMETERS_IGNORE\n"
          ]
        },
        {
          "name": "stdout",
          "output_type": "stream",
          "text": [
            "Epoch 1/25\n"
          ]
        },
        {
          "name": "stderr",
          "output_type": "stream",
          "text": [
            "COMET INFO: ignoring tensorflow summary log of metrics because of keras; set `comet_ml.loggers.tensorboard_logger.LOG_METRICS = True` to override\n"
          ]
        }
      ],
      "source": [
        "audio_model = AudioGenreClassifier(num_train,num_train_y,num_valid,num_valid_y,class_weight,early_stop,experiment)\n",
        "# mu is the mean number of units, sigma is the standard deviation\n",
        "audio_model.grid_search({\n",
        "    \"algorithm\": \"bayes\",\n",
        "    \"name\": \"Optimize Music Classification Network\",\n",
        "    \"spec\": {\"maxCombo\": 10, \"objective\": \"minimize\", \"metric\": \"loss\"},\n",
        "    \"parameters\": {\n",
        "        \"first_layer_filters\": {\"type\": \"discrete\", \"values\": [2,4,7,8,9,10,16]},\n",
        "        \"first_layer_kernels\": {\"type\": \"discrete\", \"values\": [1,2,3,4]},\n",
        "        \"first_layer_dense_units\": {\"type\": \"discrete\", \"values\":[700,800,900,1000,1100,1200,1300]},\n",
        "        \"first_layer_dropout_units\": {\"type\": \"discrete\", \"values\":[0.4,0.5,0.6,0.7,0.8]},\n",
        "        \"second_layer_dense_units\": {\"type\": \"discrete\", \"values\":[300,400,500,600]},\n",
        "        \"second_layer_dropout_units\": {\"type\": \"discrete\", \"values\":[0,0.1,0.2,0.3,0.4]},\n",
        "        \"third_layer_dense_units\": {\"type\": \"discrete\", \"values\":[50,60,70,80,90,100,200]},\n",
        "        \"third_layer_dropout_units\": {\"type\": \"discrete\", \"values\":[0,0.1,0.2,0.3,0.4]},\n",
        "        \"batch_size\": {\"type\": \"discrete\", \"values\": [16,32]},\n",
        "        \"epochs\": {\"type\": \"discrete\", \"values\": [25]},\n",
        "    },\n",
        "    \"trials\": 1,\n",
        "})"
      ]
    },
    {
      "cell_type": "code",
      "execution_count": null,
      "metadata": {
        "id": "R3daG5X2Yyb4"
      },
      "outputs": [],
      "source": [
        "num_train.shape"
      ]
    },
    {
      "cell_type": "code",
      "execution_count": null,
      "metadata": {
        "id": "RPlLZwOZqWFY"
      },
      "outputs": [],
      "source": [
        "model = Sequential()\n",
        "model.add(\n",
        "Conv1D(\n",
        "  filters=9,\n",
        "  kernel_size=4,\n",
        "  strides=1,\n",
        "  input_shape=(num_train.shape[1], num_train.shape[2]),\n",
        "  activation='elu',\n",
        "  padding='same'\n",
        "  )\n",
        ")\n",
        "model.add(MaxPooling1D())\n",
        "model.add(BatchNormalization())\n",
        "\n",
        "model.add(Flatten())\n",
        "\n",
        "model.add(\n",
        "    Dense(\n",
        "        units=1100,\n",
        "        )\n",
        "    )\n",
        "model.add(layers.Activation(activations.elu))\n",
        "model.add(Dropout(0.6))\n",
        "model.add(BatchNormalization())\n",
        "\n",
        "model.add(\n",
        "    Dense(\n",
        "        units=300,\n",
        "        )\n",
        "    )\n",
        "model.add(layers.Activation(activations.elu))\n",
        "model.add(Dropout(0))\n",
        "model.add(BatchNormalization())\n",
        "\n",
        "model.add(\n",
        "    Dense(\n",
        "        units=70,\n",
        "        )\n",
        "    )\n",
        "model.add(layers.Activation(activations.elu))\n",
        "model.add(Dropout(0.2))\n",
        "model.add(BatchNormalization())\n",
        "\n",
        "model.add(Dense(8,activation='softmax'))\n",
        "optimizer = keras.optimizers.Adam(0.001)\n",
        "model.compile(\n",
        "    optimizer=optimizer,\n",
        "    loss='categorical_crossentropy',\n",
        "    metrics=['accuracy']\n",
        ")"
      ]
    },
    {
      "cell_type": "code",
      "execution_count": null,
      "metadata": {
        "id": "Ax9f6_zGqWFY"
      },
      "outputs": [],
      "source": [
        "model.fit(\n",
        "    num_train,\n",
        "    num_train_y,\n",
        "    batch_size=32,\n",
        "    epochs=50,\n",
        "    validation_data=(num_valid,num_valid_y),\n",
        "    class_weight=class_weight,\n",
        "    callbacks=[early_stop,reduce_lr],shuffle=True\n",
        ")"
      ]
    },
    {
      "cell_type": "code",
      "execution_count": null,
      "metadata": {
        "id": "wIvgPRb9qWFY"
      },
      "outputs": [],
      "source": [
        "from sklearn.metrics import classification_report\n",
        "validation = model.predict(num_valid)\n",
        "validation = validation.argmax(axis=1)\n",
        "classes_mapping = {\n",
        "    0: 'classic pop and rock',\n",
        "    1: 'dance and electronica',\n",
        "    2: 'folk',\n",
        "    3: 'jazz and blues',\n",
        "    4: 'metal',\n",
        "    5: 'pop',\n",
        "    6: 'punk',\n",
        "    7: 'soul and reggae',\n",
        "}\n",
        "predict_label_array = np.vectorize(classes_mapping.get)(validation)\n",
        "correct_labels = df_valid_labels['genre'].values\n",
        "print(classification_report(correct_labels,predict_label_array))"
      ]
    },
    {
      "cell_type": "code",
      "execution_count": null,
      "metadata": {
        "id": "5j4X5cJjw3dW"
      },
      "outputs": [],
      "source": [
        "validation = model.predict(num_test)\n",
        "validation = validation.argmax(axis=1)\n",
        "classes_mapping = {\n",
        "    0: 'classic pop and rock',\n",
        "    1: 'dance and electronica',\n",
        "    2: 'folk',\n",
        "    3: 'jazz and blues',\n",
        "    4: 'metal',\n",
        "    5: 'pop',\n",
        "    6: 'punk',\n",
        "    7: 'soul and reggae',\n",
        "}\n",
        "predict_label_array = np.vectorize(classes_mapping.get)(validation)\n",
        "correct_labels = df_test_labels['genre'].values\n",
        "print(classification_report(correct_labels,predict_label_array))"
      ]
    },
    {
      "cell_type": "code",
      "execution_count": null,
      "metadata": {
        "id": "bsHvEFEf-Rgz"
      },
      "outputs": [],
      "source": [
        "# CNN\n",
        "## Scaler comparison (based on the model valiation loss is not increasing)\n",
        "### RobustScaler -> validation | test accurancy: 0.61 | 0.36\n",
        "### MinMaxScaler -> validation | test accurancy: 0.29 | 0.18\n",
        "\n",
        "### StandardScaler -> validation | test accurancy: 0.55 | 0.39\n",
        "#### Optimized CNN\n",
        "## Trial 1\n",
        "# - float128\n",
        "# - filters: 9\n",
        "# - kernels: 4\n",
        "# - strides: 1 -> for sure to use\n",
        "# - MaxPooling1D: yes -> for sure to use\n",
        "# - 1100,0.6 ; 300,0 ; 70,0.2 (3 hidden dense layers)\n",
        "# - Conv1D: relu; Dense all relu\n",
        "# - validation | test accurancy: 0.55 | 0.40\n",
        "\n",
        "## Trial 2\n",
        "# - float128\n",
        "# - filters: 9\n",
        "# - kernels: 4\n",
        "# - strides: 1 -> for sure to use\n",
        "# - MaxPooling1D: yes -> for sure to use\n",
        "# - 1100,0.6 ; 300,0 ; 70,0.2 (3 hidden dense layers)\n",
        "# - Conv1D: elu; Dense all elu\n",
        "# - validation | test accurancy: 0.53 | 0.45 (the best, but could vary due to random state)\n",
        "\n",
        "### Overall, the accuracy is around 0.39-0.45. The best trial uses all elu activation functions."
      ]
    }
  ],
  "metadata": {
    "accelerator": "GPU",
    "colab": {
      "collapsed_sections": [],
      "name": "audio_cmet_O.ipynb",
      "private_outputs": true,
      "provenance": []
    },
    "interpreter": {
      "hash": "984944ce4eefbed249e2a3501e72ee0777f56e66d10a0a53283275062444400f"
    },
    "kernelspec": {
      "display_name": "Python 3.9.6 64-bit",
      "language": "python",
      "name": "python3"
    },
    "language_info": {
      "codemirror_mode": {
        "name": "ipython",
        "version": 3
      },
      "file_extension": ".py",
      "mimetype": "text/x-python",
      "name": "python",
      "nbconvert_exporter": "python",
      "pygments_lexer": "ipython3",
      "version": "3.9.7"
    },
    "orig_nbformat": 4
  },
  "nbformat": 4,
  "nbformat_minor": 0
}
