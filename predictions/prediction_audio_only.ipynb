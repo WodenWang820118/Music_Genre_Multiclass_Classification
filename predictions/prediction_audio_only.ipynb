{
 "cells": [
  {
   "cell_type": "code",
   "execution_count": 1,
   "metadata": {},
   "outputs": [],
   "source": [
    "import pandas as pd\n",
    "import numpy as np\n",
    "import seaborn as sns\n",
    "import keras\n",
    "import matplotlib.pyplot as plt\n",
    "\n",
    "%matplotlib inline\n",
    "sns.set_style('whitegrid')"
   ]
  },
  {
   "cell_type": "code",
   "execution_count": 2,
   "metadata": {},
   "outputs": [],
   "source": [
    "df_test_features = pd.read_csv('../test_features.csv')"
   ]
  },
  {
   "cell_type": "code",
   "execution_count": 3,
   "metadata": {},
   "outputs": [],
   "source": [
    "num_test_data = df_test_features.iloc[:,9:]\n",
    "# num_test_data['loudness'] = df_test_features['loudness']\n",
    "# num_test_data['tempo'] = df_test_features['tempo']\n",
    "# num_test_data['duration'] = df_test_features['duration']"
   ]
  },
  {
   "cell_type": "code",
   "execution_count": 4,
   "metadata": {},
   "outputs": [],
   "source": [
    "from sklearn.preprocessing import StandardScaler\n",
    "scaler = StandardScaler()"
   ]
  },
  {
   "cell_type": "code",
   "execution_count": 5,
   "metadata": {},
   "outputs": [],
   "source": [
    "num_test = scaler.fit_transform(num_test_data)"
   ]
  },
  {
   "cell_type": "code",
   "execution_count": 6,
   "metadata": {},
   "outputs": [],
   "source": [
    "model = keras.models.load_model('../audio_only_model')"
   ]
  },
  {
   "cell_type": "code",
   "execution_count": 7,
   "metadata": {},
   "outputs": [],
   "source": [
    "prediction = model.predict(num_test)"
   ]
  },
  {
   "cell_type": "code",
   "execution_count": 8,
   "metadata": {},
   "outputs": [],
   "source": [
    "predict_labels = [ label.argmax() for label in prediction]\n",
    "classes_mapping = {\n",
    "    0: 'classic pop and rock',\n",
    "    1: 'dance and electronica',\n",
    "    2: 'folk',\n",
    "    3: 'jazz and blues',\n",
    "    4: 'metal',\n",
    "    5: 'pop',\n",
    "    6: 'punk',\n",
    "    7: 'soul and reggae',\n",
    "}\n",
    "predict_label_array = np.vectorize(classes_mapping.get)(predict_labels)"
   ]
  },
  {
   "cell_type": "code",
   "execution_count": 9,
   "metadata": {},
   "outputs": [],
   "source": [
    "correct_label = pd.read_csv('../test_labels.csv')\n",
    "correct_label_array = correct_label['genre'].values"
   ]
  },
  {
   "cell_type": "code",
   "execution_count": 10,
   "metadata": {},
   "outputs": [
    {
     "name": "stdout",
     "output_type": "stream",
     "text": [
      "                       precision    recall  f1-score   support\n",
      "\n",
      " classic pop and rock       0.30      0.38      0.34        64\n",
      "dance and electronica       0.59      0.34      0.44        64\n",
      "                 folk       0.59      0.68      0.63        73\n",
      "       jazz and blues       0.11      0.08      0.10        36\n",
      "                metal       0.51      0.45      0.48        42\n",
      "                  pop       0.40      0.61      0.49        44\n",
      "                 punk       0.25      0.28      0.26        40\n",
      "      soul and reggae       0.42      0.34      0.38        65\n",
      "\n",
      "             accuracy                           0.42       428\n",
      "            macro avg       0.40      0.40      0.39       428\n",
      "         weighted avg       0.42      0.42      0.41       428\n",
      "\n"
     ]
    }
   ],
   "source": [
    "from sklearn.metrics import classification_report\n",
    "print(classification_report(correct_label_array, predict_label_array))"
   ]
  }
 ],
 "metadata": {
  "interpreter": {
   "hash": "984944ce4eefbed249e2a3501e72ee0777f56e66d10a0a53283275062444400f"
  },
  "kernelspec": {
   "display_name": "Python 3.9.6 64-bit",
   "language": "python",
   "name": "python3"
  },
  "language_info": {
   "codemirror_mode": {
    "name": "ipython",
    "version": 3
   },
   "file_extension": ".py",
   "mimetype": "text/x-python",
   "name": "python",
   "nbconvert_exporter": "python",
   "pygments_lexer": "ipython3",
   "version": "3.9.6"
  },
  "orig_nbformat": 4
 },
 "nbformat": 4,
 "nbformat_minor": 2
}
