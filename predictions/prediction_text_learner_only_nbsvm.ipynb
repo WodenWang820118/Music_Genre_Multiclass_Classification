{
 "cells": [
  {
   "cell_type": "code",
   "execution_count": 55,
   "metadata": {},
   "outputs": [],
   "source": [
    "import pandas as pd\n",
    "import numpy as np\n",
    "import seaborn as sns\n",
    "import matplotlib.pyplot as plt\n",
    "\n",
    "%matplotlib inline\n",
    "sns.set_style('whitegrid')"
   ]
  },
  {
   "cell_type": "code",
   "execution_count": 56,
   "metadata": {},
   "outputs": [],
   "source": [
    "df_test_features = pd.read_csv('../test_features.csv')"
   ]
  },
  {
   "cell_type": "code",
   "execution_count": 57,
   "metadata": {},
   "outputs": [],
   "source": [
    "num_test_data = df_test_features.iloc[:,9:]\n",
    "num_test_data['loudness'] = df_test_features['loudness']\n",
    "num_test_data['tempo'] = df_test_features['tempo']\n",
    "num_test_data['duration'] = df_test_features['duration']\n",
    "cat_test_data = df_test_features[['time_signature', 'key', 'mode']]"
   ]
  },
  {
   "cell_type": "code",
   "execution_count": 58,
   "metadata": {},
   "outputs": [],
   "source": [
    "from sklearn.preprocessing import LabelEncoder\n",
    "le = LabelEncoder()"
   ]
  },
  {
   "cell_type": "code",
   "execution_count": 59,
   "metadata": {},
   "outputs": [
    {
     "name": "stderr",
     "output_type": "stream",
     "text": [
      "C:\\Users\\alex0\\AppData\\Local\\Temp/ipykernel_29408/719706249.py:1: SettingWithCopyWarning: \n",
      "A value is trying to be set on a copy of a slice from a DataFrame.\n",
      "Try using .loc[row_indexer,col_indexer] = value instead\n",
      "\n",
      "See the caveats in the documentation: https://pandas.pydata.org/pandas-docs/stable/user_guide/indexing.html#returning-a-view-versus-a-copy\n",
      "  cat_test_data['time_signature_cat'] = le.fit_transform(cat_test_data['time_signature'])\n",
      "C:\\Users\\alex0\\AppData\\Local\\Temp/ipykernel_29408/719706249.py:2: SettingWithCopyWarning: \n",
      "A value is trying to be set on a copy of a slice from a DataFrame.\n",
      "Try using .loc[row_indexer,col_indexer] = value instead\n",
      "\n",
      "See the caveats in the documentation: https://pandas.pydata.org/pandas-docs/stable/user_guide/indexing.html#returning-a-view-versus-a-copy\n",
      "  cat_test_data['key_cat'] = le.fit_transform(cat_test_data['key'])\n",
      "C:\\Users\\alex0\\AppData\\Local\\Temp/ipykernel_29408/719706249.py:3: SettingWithCopyWarning: \n",
      "A value is trying to be set on a copy of a slice from a DataFrame.\n",
      "Try using .loc[row_indexer,col_indexer] = value instead\n",
      "\n",
      "See the caveats in the documentation: https://pandas.pydata.org/pandas-docs/stable/user_guide/indexing.html#returning-a-view-versus-a-copy\n",
      "  cat_test_data['mode_cat'] = le.fit_transform(cat_test_data['mode'])\n"
     ]
    }
   ],
   "source": [
    "cat_test_data['time_signature_cat'] = le.fit_transform(cat_test_data['time_signature'])\n",
    "cat_test_data['key_cat'] = le.fit_transform(cat_test_data['key'])\n",
    "cat_test_data['mode_cat'] = le.fit_transform(cat_test_data['mode'])"
   ]
  },
  {
   "cell_type": "code",
   "execution_count": 60,
   "metadata": {},
   "outputs": [],
   "source": [
    "from sklearn.preprocessing import StandardScaler\n",
    "scaler = StandardScaler()"
   ]
  },
  {
   "cell_type": "code",
   "execution_count": 61,
   "metadata": {},
   "outputs": [],
   "source": [
    "num_test = scaler.fit_transform(num_test_data)"
   ]
  },
  {
   "cell_type": "code",
   "execution_count": 62,
   "metadata": {},
   "outputs": [],
   "source": [
    "import ktrain"
   ]
  },
  {
   "cell_type": "code",
   "execution_count": 63,
   "metadata": {},
   "outputs": [],
   "source": [
    "predictor = ktrain.load_predictor('../text_only_nbsvm')"
   ]
  },
  {
   "cell_type": "markdown",
   "metadata": {},
   "source": [
    "# Pre-process string with ktrain"
   ]
  },
  {
   "cell_type": "code",
   "execution_count": 64,
   "metadata": {},
   "outputs": [],
   "source": [
    "def str_remove_comma(string):\n",
    "    str = string.split(\", \")\n",
    "    return str\n",
    "\n",
    "def list_to_string(list):\n",
    "    str = \" \"\n",
    "    return str.join(list)"
   ]
  },
  {
   "cell_type": "code",
   "execution_count": 65,
   "metadata": {},
   "outputs": [],
   "source": [
    "# remove stopwords\n",
    "import nltk\n",
    "stopwords = nltk.corpus.stopwords.words('english')"
   ]
  },
  {
   "cell_type": "code",
   "execution_count": 66,
   "metadata": {},
   "outputs": [],
   "source": [
    "x_test2 = df_test_features['tags'].apply(lambda x : list_to_string(str_remove_comma(x)))\n",
    "x_test2 = x_test2.apply(lambda x : ' '.join([word for word in x.split() if word not in (stopwords)]))\n",
    "x_test2 = np.array(x_test2)"
   ]
  },
  {
   "cell_type": "code",
   "execution_count": 67,
   "metadata": {},
   "outputs": [
    {
     "name": "stdout",
     "output_type": "stream",
     "text": [
      "428 test sequences\n",
      "test sequence lengths:\n",
      "\tmean : 54\n",
      "\t95percentile : 109\n",
      "\t99percentile : 150\n",
      "x_test shape: (428,150)\n"
     ]
    }
   ],
   "source": [
    "x_text_input = predictor.preproc.preprocess_test(x_test2)"
   ]
  },
  {
   "cell_type": "markdown",
   "metadata": {},
   "source": [
    "# Make a prediction"
   ]
  },
  {
   "cell_type": "code",
   "execution_count": 68,
   "metadata": {},
   "outputs": [],
   "source": [
    "test_dataset = [x_text_input[0]]"
   ]
  },
  {
   "cell_type": "code",
   "execution_count": 69,
   "metadata": {},
   "outputs": [],
   "source": [
    "prediction = predictor.model.predict(test_dataset)"
   ]
  },
  {
   "cell_type": "code",
   "execution_count": 70,
   "metadata": {},
   "outputs": [],
   "source": [
    "predict_labels = [ label.argmax() for label in prediction]\n",
    "df = pd.DataFrame(predict_labels, columns=['genre_pred'])\n",
    "classes_mapping = {\n",
    "    0: 'classic pop and rock',\n",
    "    1: 'dance and electronica',\n",
    "    2: 'folk',\n",
    "    3: 'jazz and blues',\n",
    "    4: 'metal',\n",
    "    5: 'pop',\n",
    "    6: 'punk',\n",
    "    7: 'soul and reggae',\n",
    "}\n",
    "df['genre_pred'] = df['genre_pred'].map(classes_mapping)\n",
    "df['trackID'] = df_test_features['trackID']"
   ]
  },
  {
   "cell_type": "code",
   "execution_count": 71,
   "metadata": {},
   "outputs": [],
   "source": [
    "correct_label = pd.read_csv('../test_labels.csv')\n",
    "df_merged = pd.merge(df, correct_label, on='trackID')"
   ]
  },
  {
   "cell_type": "code",
   "execution_count": 72,
   "metadata": {},
   "outputs": [
    {
     "name": "stdout",
     "output_type": "stream",
     "text": [
      "                       precision    recall  f1-score   support\n",
      "\n",
      " classic pop and rock       0.40      0.09      0.15        64\n",
      "dance and electronica       0.14      0.02      0.03        64\n",
      "                 folk       0.44      0.64      0.53        73\n",
      "       jazz and blues       0.21      0.19      0.20        36\n",
      "                metal       0.57      0.60      0.58        42\n",
      "                  pop       0.90      1.00      0.95        44\n",
      "                 punk       1.00      0.30      0.46        40\n",
      "      soul and reggae       0.30      0.75      0.43        65\n",
      "\n",
      "             accuracy                           0.45       428\n",
      "            macro avg       0.50      0.45      0.42       428\n",
      "         weighted avg       0.46      0.45      0.40       428\n",
      "\n"
     ]
    }
   ],
   "source": [
    "from sklearn.metrics import classification_report\n",
    "print(classification_report(df_merged['genre'], df_merged['genre_pred']))"
   ]
  }
 ],
 "metadata": {
  "interpreter": {
   "hash": "984944ce4eefbed249e2a3501e72ee0777f56e66d10a0a53283275062444400f"
  },
  "kernelspec": {
   "display_name": "Python 3.9.6 64-bit",
   "language": "python",
   "name": "python3"
  },
  "language_info": {
   "codemirror_mode": {
    "name": "ipython",
    "version": 3
   },
   "file_extension": ".py",
   "mimetype": "text/x-python",
   "name": "python",
   "nbconvert_exporter": "python",
   "pygments_lexer": "ipython3",
   "version": "3.9.6"
  },
  "orig_nbformat": 4
 },
 "nbformat": 4,
 "nbformat_minor": 2
}
